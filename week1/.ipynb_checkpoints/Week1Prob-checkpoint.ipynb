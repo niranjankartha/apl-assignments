{
 "cells": [
  {
   "cell_type": "markdown",
   "id": "45927d93",
   "metadata": {},
   "source": [
    "# Applied Programming Lab: Week 1 Submission\n",
    "**by Niranjan A. Kartha (EE21B095)**"
   ]
  },
  {
   "cell_type": "markdown",
   "id": "0c6eaec3",
   "metadata": {},
   "source": [
    "____"
   ]
  },
  {
   "cell_type": "markdown",
   "id": "96b3718c",
   "metadata": {},
   "source": [
    "# Please use the notebook!\n",
    "\n",
    "I have used the `ipynb` file to run and test code, as well as add documentation and explanations for it. So please use the Jupyter Notebook file as it provides a more streamlined experience."
   ]
  },
  {
   "cell_type": "markdown",
   "id": "1a796e89",
   "metadata": {},
   "source": [
    "____"
   ]
  },
  {
   "cell_type": "markdown",
   "id": "f455d7f9",
   "metadata": {},
   "source": [
    "\n",
    "# Running the notebook\n",
    "\n",
    "I have not used any extra libraries in this submission, so any default installation of Jupyter Notebook should be able to run the code cells in this notebook.\n",
    "\n",
    "Some of the cells are designed to throw errors on purpose, so running all cells from top to bottom **will not work**.\n",
    "\n",
    "# My environment setup\n",
    "\n",
    "I have used a local installation of Jupyter Notebook on Linux to create my submission. I have also installed the [jupyter vim binding](https://github.com/lambdalisue/jupyter-vim-binding) extension for Jupyter Notebook.\n",
    "\n",
    "## LaTeX\n",
    "\n",
    "I am using a local install of [TeX Live](https://wiki.archlinux.org/title/TeX_Live) (from the [`texlive-most`](https://archlinux.org/groups/x86_64/texlive-most/) group on the Arch Repos) and [pandoc](https://archlinux.org/packages/community/x86_64/pandoc/) to allow Jupyter Notebook to render my notebook into a PDF."
   ]
  },
  {
   "cell_type": "markdown",
   "id": "d2c9dfef",
   "metadata": {},
   "source": [
    "____"
   ]
  },
  {
   "cell_type": "markdown",
   "id": "6f50e8b3",
   "metadata": {},
   "source": [
    "# Document metadata\n",
    "**Problem statement:**\n",
    "\n",
    "> Modify this document so that the author name reflects your name and roll number.\n",
    "> Explain the changes you needed to make here.\n",
    "> If you use other approaches such as LaTeX to generate the PDF, explain the differences between the notebook approach and what you have used.\n",
    "\n",
    "We can edit the document metadata by accessing the `Edit -> Edit Notebook Metadata` menu in Jupyter Notebook:\n",
    "\n",
    "<img src=\"images/edit-metadata.png\" alt=\"Edit Notebook Metadata\" width=\"450\"/>\n",
    "\n",
    "This lets us edit the metadata as JSON. We can edit the `\"authors\"` property and edit the name of the author.\n",
    "\n",
    "```json\n",
    "{\n",
    "  \"authors\": [\n",
    "    {\n",
    "      /* I have edited the line below */\n",
    "      \"name\": \"Niranjan A. Kartha <ee21b095@smail.iitm.ac.in>\"\n",
    "    }\n",
    "  ],\n",
    "  \"kernelspec\": {\n",
    "    \"name\": \"python3\",\n",
    "    \"display_name\": \"Python 3 (ipykernel)\",\n",
    "    \"language\": \"python\"\n",
    "  },\n",
    "  \"language_info\": {\n",
    "    \"name\": \"python\",\n",
    "    \"version\": \"3.10.9\",\n",
    "    \"mimetype\": \"text/x-python\",\n",
    "    \"codemirror_mode\": {\n",
    "      \"name\": \"ipython\",\n",
    "      \"version\": 3\n",
    "    },\n",
    "    \"pygments_lexer\": \"ipython3\",\n",
    "    \"nbconvert_exporter\": \"python\",\n",
    "    \"file_extension\": \".py\"\n",
    "  },\n",
    "  \"name\": \"Week1Prob.ipynb\",\n",
    "  \"title\": \"EE2703 - Week 1\",\n",
    "  \"toc-autonumbering\": true,\n",
    "  \"vscode\": {\n",
    "    \"interpreter\": {\n",
    "      \"hash\": \"b0fa6594d8f4cbf19f97940f81e996739fb7646882a419484c72d19e05852a7e\"\n",
    "    }\n",
    "  }\n",
    "}\n",
    "```"
   ]
  },
  {
   "cell_type": "markdown",
   "id": "e2e65bbc",
   "metadata": {},
   "source": [
    "____"
   ]
  },
  {
   "cell_type": "markdown",
   "id": "3aaa5a11",
   "metadata": {},
   "source": [
    "# Basic Data Types\n",
    "\n",
    "**Problem statement:**\n",
    "\n",
    "> Here we have a series of small problems involving various basic data types in Python.  You are required to complete the code where required, and give *brief* explanations of your answers.  Remember that the documentation and explanation is as important as the answer.\n",
    "> \n",
    "> For each of the following cells, first execute them, and then give a brief explanation of why the answer comes out to be the way it does.  If there is an error during execution of the cell, explain how you fixed it.  **Add a new cell of type Markdown with the explanation** after the corresponding cell.  If you are using plain Python, add suitable comments after each line and explain this in the documentation (clearly you would be better off using Notebooks here)."
   ]
  },
  {
   "cell_type": "markdown",
   "id": "62d6847e",
   "metadata": {},
   "source": [
    "## Numerical types"
   ]
  },
  {
   "cell_type": "markdown",
   "id": "06cf4f5c",
   "metadata": {},
   "source": [
    "### Division"
   ]
  },
  {
   "cell_type": "code",
   "execution_count": 1,
   "id": "14b2ead6",
   "metadata": {},
   "outputs": [
    {
     "name": "stdout",
     "output_type": "stream",
     "text": [
      "2.4\n"
     ]
    }
   ],
   "source": [
    "print(12 / 5)"
   ]
  },
  {
   "cell_type": "markdown",
   "id": "e35cad8f",
   "metadata": {},
   "source": [
    "Python3 treats the division operator `/` as floating point division, and gives us a floating point answer. Since $\\frac{12}{5} = 2.4$, Python outputs `2.4` as the answer."
   ]
  },
  {
   "cell_type": "markdown",
   "id": "660f8706",
   "metadata": {},
   "source": [
    "### Integer division"
   ]
  },
  {
   "cell_type": "code",
   "execution_count": 2,
   "id": "9d392a12",
   "metadata": {},
   "outputs": [
    {
     "name": "stdout",
     "output_type": "stream",
     "text": [
      "2\n"
     ]
    }
   ],
   "source": [
    "print(12 // 5)"
   ]
  },
  {
   "cell_type": "markdown",
   "id": "871d0ce0",
   "metadata": {},
   "source": [
    "`//` is the integer division operator in Python. This corresponds to dividing numbers and then taking the `floor` of it. `floor(2.4) = 2` and so the above code outputs `2`."
   ]
  },
  {
   "cell_type": "markdown",
   "id": "f155c489",
   "metadata": {},
   "source": [
    "### Floating points"
   ]
  },
  {
   "cell_type": "code",
   "execution_count": 3,
   "id": "fff0d4ec",
   "metadata": {},
   "outputs": [
    {
     "name": "stdout",
     "output_type": "stream",
     "text": [
      "10 10 1.0\n"
     ]
    }
   ],
   "source": [
    "a=b=10\n",
    "print(a,b,a/b)"
   ]
  },
  {
   "cell_type": "markdown",
   "id": "40676ce5",
   "metadata": {},
   "source": [
    "We can notice that the two `10`s printed do not have a decimal point, while the `1.0` does.\n",
    "\n",
    "Since `/` represents floating point division, the `10`s are converted into `float`s before the division operation is performed. Since floating point division outputs `float`s, the `1.0` that we get is a `float`.\n",
    "\n",
    "We can confirm this by printing the types of the values involved:"
   ]
  },
  {
   "cell_type": "code",
   "execution_count": 4,
   "id": "a9efbd20",
   "metadata": {},
   "outputs": [
    {
     "name": "stdout",
     "output_type": "stream",
     "text": [
      "a: <class 'int'>\n",
      "b: <class 'int'>\n",
      "a/b: <class 'float'>\n"
     ]
    }
   ],
   "source": [
    "print(\"a:\", type(a))\n",
    "print(\"b:\", type(b))\n",
    "print(\"a/b:\", type(a / b))"
   ]
  },
  {
   "cell_type": "markdown",
   "id": "f31d90a1",
   "metadata": {},
   "source": [
    "____"
   ]
  },
  {
   "cell_type": "markdown",
   "id": "1a4c746d",
   "metadata": {},
   "source": [
    "## Strings and related operations"
   ]
  },
  {
   "cell_type": "markdown",
   "id": "cc0812ce",
   "metadata": {},
   "source": [
    "### Printing a string"
   ]
  },
  {
   "cell_type": "code",
   "execution_count": 5,
   "id": "4dff9357",
   "metadata": {},
   "outputs": [
    {
     "name": "stdout",
     "output_type": "stream",
     "text": [
      "Hello \n"
     ]
    }
   ],
   "source": [
    "a = \"Hello \"\n",
    "print(a)"
   ]
  },
  {
   "cell_type": "markdown",
   "id": "002196c8",
   "metadata": {},
   "source": [
    "We can notice that `a` was already declared as `10` in the previous section of this file. Since python is a dynamically-typed language, we are allowed to change the datatypes of variables while assigning values to them, and so the above code executes even though we are assigning a `str` to a variable that was previously an `int`."
   ]
  },
  {
   "cell_type": "markdown",
   "id": "732b59fc",
   "metadata": {},
   "source": [
    "### Concatenation"
   ]
  },
  {
   "cell_type": "code",
   "execution_count": 6,
   "id": "7abba9bd",
   "metadata": {},
   "outputs": [
    {
     "ename": "TypeError",
     "evalue": "can only concatenate str (not \"int\") to str",
     "output_type": "error",
     "traceback": [
      "\u001b[0;31m---------------------------------------------------------------------------\u001b[0m",
      "\u001b[0;31mTypeError\u001b[0m                                 Traceback (most recent call last)",
      "Cell \u001b[0;32mIn[6], line 1\u001b[0m\n\u001b[0;32m----> 1\u001b[0m \u001b[38;5;28mprint\u001b[39m(\u001b[43ma\u001b[49m\u001b[38;5;241;43m+\u001b[39;49m\u001b[43mb\u001b[49m)  \u001b[38;5;66;03m# Output should contain \"Hello 10\" \u001b[39;00m\n",
      "\u001b[0;31mTypeError\u001b[0m: can only concatenate str (not \"int\") to str"
     ]
    }
   ],
   "source": [
    "print(a+b)  # Output should contain \"Hello 10\" "
   ]
  },
  {
   "cell_type": "markdown",
   "id": "bece79b3",
   "metadata": {},
   "source": [
    "The above code throws a `TypeError` because the string concatenation operator `+` expects both operands to be `str`s. We can fix this by converting `b` to a `str`, as follows:"
   ]
  },
  {
   "cell_type": "code",
   "execution_count": 7,
   "id": "8c5c0a3f",
   "metadata": {},
   "outputs": [
    {
     "name": "stdout",
     "output_type": "stream",
     "text": [
      "Hello 10\n"
     ]
    }
   ],
   "source": [
    "print(a + str(b)) # fixed code"
   ]
  },
  {
   "cell_type": "markdown",
   "id": "9cf19e7c",
   "metadata": {},
   "source": [
    "### Repetition"
   ]
  },
  {
   "cell_type": "markdown",
   "id": "1b6b8360",
   "metadata": {},
   "source": [
    "**Problem statement:**\n",
    "\n",
    "> Print out a line of 40 '`-`' signs (to look like one long line)  \n",
    "> Then print the number 42 so that it is right justified to the end of the above line  \n",
    "> Then print one more line of length 40, but with the pattern '`*-*-*-`' "
   ]
  },
  {
   "cell_type": "code",
   "execution_count": 8,
   "id": "e768b2b7",
   "metadata": {},
   "outputs": [
    {
     "name": "stdout",
     "output_type": "stream",
     "text": [
      "----------------------------------------\n",
      "                                      42\n",
      "*-*-*-*-*-*-*-*-*-*-*-*-*-*-*-*-*-*-*-*-\n"
     ]
    }
   ],
   "source": [
    "print(\"-\" * 40)\n",
    "print(\"42\".rjust(40))\n",
    "print(\"*-\" * 20)"
   ]
  },
  {
   "cell_type": "markdown",
   "id": "5cdbe470",
   "metadata": {},
   "source": [
    "The `*` operator can be used to repeat strings. We use this to repeat `-` 40 times and `*-` 20 times.\n",
    "\n",
    "The `rjust` function right-justifies a string to the desired length by adding characters to its left. We use this to pad `42` with spaces on the left upto a length of 40."
   ]
  },
  {
   "cell_type": "markdown",
   "id": "cbd7e994",
   "metadata": {},
   "source": [
    "### F-strings"
   ]
  },
  {
   "cell_type": "code",
   "execution_count": 9,
   "id": "a59e3a7b",
   "metadata": {},
   "outputs": [
    {
     "name": "stdout",
     "output_type": "stream",
     "text": [
      "The variable 'a' has the value Hello  and 'b' has the value         10\n"
     ]
    }
   ],
   "source": [
    "print(f\"The variable 'a' has the value {a} and 'b' has the value {b:>10}\")"
   ]
  },
  {
   "cell_type": "markdown",
   "id": "1dc01d7c",
   "metadata": {},
   "source": [
    "[F-strings](https://peps.python.org/pep-0498/) let us insert python expressions into strings by enclosing them in `{`curly braces`}`. These expressions are executed and then replaced with the value that they evaluate to.\n",
    "\n",
    "We can add [format specifiers](https://docs.python.org/3.4/library/string.html#formatspec) after python expressions by following it with a colon (`:`). `>10` is right-align to a width of `10`. This is similar to the `rjust` function used above."
   ]
  },
  {
   "cell_type": "markdown",
   "id": "73468471",
   "metadata": {},
   "source": [
    "### Dictionaries\n",
    "**Problem statement:**\n",
    "\n",
    "> Create a list of dictionaries where each entry in the list has two keys:  \n",
    ">\n",
    "> - `id`: this will be the ID number of a course, for example '`EE2703`'\n",
    ">\n",
    "> - `name`: this will be the name, for example '`Applied Programming Lab`'\n",
    "> \n",
    "> Add 3 entries:  \n",
    "> ```\n",
    "> EE2703 -> Applied Programming Lab  \n",
    "> EE2003 -> Computer Organization  \n",
    "> EE5311 -> Digital IC Design  \n",
    "> ```\n",
    "> \n",
    "> Then print out the entries in a neatly formatted table where the \n",
    "> ID number is left justified\n",
    "> to 10 spaces and the name is right justified to 40 spaces.\n",
    "> \n",
    "> That is it should look like:  \n",
    "> ```\n",
    "> EE2703                     Applied Programming Lab\n",
    "> EE2003                       Computer Organization\n",
    "> EE5131                           Digital IC Design\n",
    "> ```\n"
   ]
  },
  {
   "cell_type": "code",
   "execution_count": 10,
   "id": "83d1106f",
   "metadata": {},
   "outputs": [
    {
     "name": "stdout",
     "output_type": "stream",
     "text": [
      "EE2703                     Applied Programming Lab\n",
      "EE2003                       Computer Organization\n",
      "EE5311                           Digital IC Design\n"
     ]
    }
   ],
   "source": [
    "courses = [\n",
    "    {\n",
    "        \"id\": \"EE2703\",\n",
    "        \"name\": \"Applied Programming Lab\"\n",
    "    },\n",
    "    \n",
    "    {\n",
    "        \"id\": \"EE2003\",\n",
    "        \"name\": \"Computer Organization\"\n",
    "    },\n",
    "    \n",
    "    {\n",
    "        \"id\": \"EE5311\",\n",
    "        \"name\": \"Digital IC Design\"\n",
    "    }\n",
    "]\n",
    "\n",
    "for course in courses:\n",
    "    print(f\"\"\"{course[\"id\"]:<10}{course[\"name\"]:>40}\"\"\")"
   ]
  },
  {
   "cell_type": "markdown",
   "id": "dee2f506",
   "metadata": {},
   "source": [
    "The list `courses` contains 3 objects, each of which is a `dict`, and each of those `dict`s contains two properties.\n",
    "\n",
    "Lists in Python can be iterated through with `for` loops as above. We iterate through the elements of `courses` and print out the values in the desired format, by using format strings.\n",
    "\n",
    "I have used triple quotes to enclose the string inside the `print` statement since I am using single quotes to index the dictionary.\n",
    "\n",
    "The following code which does not use triple quotes results in a syntax error:"
   ]
  },
  {
   "cell_type": "code",
   "execution_count": 11,
   "id": "0edd16b2",
   "metadata": {},
   "outputs": [
    {
     "ename": "SyntaxError",
     "evalue": "f-string: unmatched '[' (695855748.py, line 1)",
     "output_type": "error",
     "traceback": [
      "\u001b[0;36m  Cell \u001b[0;32mIn[11], line 1\u001b[0;36m\u001b[0m\n\u001b[0;31m    print(f\"{courses[0][\"id\"]}\") # will throw a syntax error\u001b[0m\n\u001b[0m                         ^\u001b[0m\n\u001b[0;31mSyntaxError\u001b[0m\u001b[0;31m:\u001b[0m f-string: unmatched '['\n"
     ]
    }
   ],
   "source": [
    "print(f\"{courses[0][\"id\"]}\") # will throw a syntax error"
   ]
  },
  {
   "cell_type": "markdown",
   "id": "102f4a80",
   "metadata": {},
   "source": [
    "I have also made use of F-strings and format specifiers as in the previous block. `<10` left-justifies to a width of `10`, and `>40` right-justifies to a width of `40`."
   ]
  },
  {
   "cell_type": "markdown",
   "id": "fb3b2dbf",
   "metadata": {},
   "source": [
    "____"
   ]
  },
  {
   "cell_type": "markdown",
   "id": "0e6a97f3",
   "metadata": {},
   "source": [
    "# Functions for general manipulation\n",
    "**Problem statement:**\n",
    "\n",
    "> Write a function with name 'twosc' that will take a single integer \n",
    "> as input, and print out the binary representation of the number \n",
    "> as output.  The function should take one other optional parameter N \n",
    "> which represents the number of bits.  The final result should always \n",
    "> contain N characters as output (either 0 or 1) and should use \n",
    "> two's complement to represent the number if it is negative.\n",
    ">\n",
    "> Examples:  \n",
    "> twosc(10): 0000000000001010  \n",
    "> twosc(-10): 1111111111110110  \n",
    "> twosc(-20, 8): 11101100\n",
    ">\n",
    "> Use only functions from the Python standard library to do this."
   ]
  },
  {
   "cell_type": "code",
   "execution_count": 10,
   "id": "e03568f0",
   "metadata": {},
   "outputs": [],
   "source": [
    "def twosc(x, N=16):\n",
    "    print(format(x & ~(-1 << N), f\"0>{N}b\"))"
   ]
  },
  {
   "cell_type": "markdown",
   "id": "79725f2f",
   "metadata": {},
   "source": [
    "The line above prints the two's complement representation of an integer `x` up to `N` binary digits. I have added the explanation for the above code in the coming section."
   ]
  },
  {
   "cell_type": "code",
   "execution_count": 2,
   "id": "ed117bf7",
   "metadata": {},
   "outputs": [
    {
     "name": "stdout",
     "output_type": "stream",
     "text": [
      "1111111111101100\n"
     ]
    }
   ],
   "source": [
    "twosc(-20)"
   ]
  },
  {
   "cell_type": "markdown",
   "id": "a2c5a985",
   "metadata": {},
   "source": [
    "## Explanation"
   ]
  },
  {
   "cell_type": "markdown",
   "id": "0654dc59",
   "metadata": {},
   "source": [
    "The above implementation utilizes the fact that integers are already stored in two's complement in the computer's memory.\n",
    "\n",
    "It first generates a bitmask of `N` `1`s, by first right shfiting `-1` (which is just a sequence of `1`s in binary) by `N` and then taking a one's complement.\n",
    "\n",
    "Here is an example for generating a bitmask of size `16`:"
   ]
  },
  {
   "cell_type": "code",
   "execution_count": 3,
   "id": "b2e826fa",
   "metadata": {},
   "outputs": [
    {
     "name": "stdout",
     "output_type": "stream",
     "text": [
      "0b1111111111111111\n"
     ]
    }
   ],
   "source": [
    "print(bin(\n",
    "    ~(-1 << 16)\n",
    "))"
   ]
  },
  {
   "cell_type": "markdown",
   "id": "f9c299fa",
   "metadata": {},
   "source": [
    "It then takes this bitmask and then bitwise-ANDs it with the input number. This isolates the last `N` bits of that number."
   ]
  },
  {
   "cell_type": "code",
   "execution_count": 4,
   "id": "b2c5a8e8",
   "metadata": {},
   "outputs": [
    {
     "name": "stdout",
     "output_type": "stream",
     "text": [
      "0b10100\n"
     ]
    }
   ],
   "source": [
    "print(bin(\n",
    "    20 &\n",
    "    ~(-1 << 16)\n",
    "))"
   ]
  },
  {
   "cell_type": "markdown",
   "id": "98036c32",
   "metadata": {},
   "source": [
    "Now it formats the number, converting it to binary and left-padding it with zeroes until it is is the correct length. If it is a negative number, there will be no padding added since it is already sign-extended to the left with `1`s by Python."
   ]
  },
  {
   "cell_type": "code",
   "execution_count": 11,
   "id": "544e9a77",
   "metadata": {},
   "outputs": [
    {
     "name": "stdout",
     "output_type": "stream",
     "text": [
      "0000000000010100\n"
     ]
    }
   ],
   "source": [
    "print(format(\n",
    "    20 &\n",
    "    ~(-1 << 16),\n",
    "    f\"0>16b\"\n",
    "))"
   ]
  },
  {
   "cell_type": "markdown",
   "id": "1a03ab35",
   "metadata": {},
   "source": [
    "The above implementation also works with large numbers and large values of `N` because of how Python deals with big numbers. The implementation within the language is [as if there were an infinite number of `1`s to the left of a negative number](https://wiki.python.org/moin/BitwiseOperators). So whatever the value of `N` is, Python will sign-extend `x` with ones to make our algorithm work.\n",
    "\n",
    "If `N` is less than the actual number of bits used for the representation of `x`, the most signifcant bits are discarded, and the least significant `N` bits of `x` are printed."
   ]
  },
  {
   "cell_type": "markdown",
   "id": "15c0d605",
   "metadata": {},
   "source": [
    "____"
   ]
  },
  {
   "cell_type": "markdown",
   "id": "10c8a140",
   "metadata": {},
   "source": [
    "# List comprehensions and decorators"
   ]
  },
  {
   "cell_type": "markdown",
   "id": "635d1f12",
   "metadata": {},
   "source": [
    "## Basic list comprehension\n",
    "\n",
    "**Problem statement:**\n",
    "\n",
    "> Explain the output you see below"
   ]
  },
  {
   "cell_type": "code",
   "execution_count": 17,
   "id": "e70db00c",
   "metadata": {},
   "outputs": [
    {
     "data": {
      "text/plain": [
       "[0, 4, 16, 36, 64]"
      ]
     },
     "execution_count": 17,
     "metadata": {},
     "output_type": "execute_result"
    }
   ],
   "source": [
    "[x*x for x in range(10) if x%2 == 0]"
   ]
  },
  {
   "cell_type": "markdown",
   "id": "2e9c9a8b",
   "metadata": {},
   "source": [
    "The above code is a list comprehension that generates a list from a `range`. It looks at all the integers from `0` to `9` (inclusive), and for every integer in that range which is divisible by `2`, it adds the square of that integer to the list."
   ]
  },
  {
   "cell_type": "markdown",
   "id": "ca575bb4",
   "metadata": {},
   "source": [
    "## Nested list comprehension\n",
    "\n",
    "**Problem statement:**\n",
    "\n",
    "> Explain the output you see below"
   ]
  },
  {
   "cell_type": "code",
   "execution_count": 18,
   "id": "e5244215",
   "metadata": {},
   "outputs": [
    {
     "data": {
      "text/plain": [
       "[1, 2, 3, 4, 5, 6, 7, 8, 9]"
      ]
     },
     "execution_count": 18,
     "metadata": {},
     "output_type": "execute_result"
    }
   ],
   "source": [
    "matrix = [[1,2,3], [4,5,6], [7,8,9]]\n",
    "[v for row in matrix for v in row]"
   ]
  },
  {
   "cell_type": "markdown",
   "id": "f9d52691",
   "metadata": {},
   "source": [
    "The list comprehension above first iterates through the `row`s in the `matrix`, and then iterates through all the elements `v` in the `row`. So the above code flattens the matrix in row-major order."
   ]
  },
  {
   "cell_type": "markdown",
   "id": "3d394cd3",
   "metadata": {},
   "source": [
    "## Prime numbers\n",
    "\n",
    "**Problem statement:**\n",
    "\n",
    "> Define a function `is_prime(x)` that will return True if a number \n",
    "> is prime, or False otherwise.  \n",
    "> Use it to write a one-line statement that will print all \n",
    "> prime numbers between 1 and 100"
   ]
  },
  {
   "cell_type": "code",
   "execution_count": 13,
   "id": "9da6ce65",
   "metadata": {},
   "outputs": [],
   "source": [
    "from math import sqrt\n",
    "\n",
    "# utilizes the fact that all primes above 3 are of the form 6n +/- 1\n",
    "# performs a primality test with O(sqrt(n)/3) modulo operations\n",
    "def is_prime(x):\n",
    "    \n",
    "    # deal with the smaller cases\n",
    "    if x == 1:\n",
    "        return False\n",
    "    if x == 2 or x == 3:\n",
    "        return True\n",
    "    \n",
    "    # get rid of all the multiples of 2 and 3\n",
    "    if x % 2 == 0 or x % 3 == 0:\n",
    "        return False\n",
    "    \n",
    "    # Now we check if every prime above 3 divides x. Since we do not have\n",
    "    # access to a list of primes, we iterate through a larger list which\n",
    "    # includes all these primes. Here, all numbers of the form 6n +/- 1.\n",
    "    \n",
    "    # we check if every number of the form 6n +/- 1 less than or equal\n",
    "    # to sqrt(x) divides x\n",
    "    high = int(sqrt(x)) + 2\n",
    "    \n",
    "    # loop through all the multiples of 6 up to and including\n",
    "    # floor(sqrt(x)) + 1\n",
    "    for i in range(6, high, 6):\n",
    "        if x % (i - 1) == 0 or x % (i + 1) == 0:\n",
    "            return False\n",
    "        \n",
    "    return True"
   ]
  },
  {
   "cell_type": "markdown",
   "id": "6db691bb",
   "metadata": {},
   "source": [
    "The above function is a more optimized version of the usual way to test for primality. It utilizes the fact that all prime numbers above $3$ are of the form $6k \\pm 1$. It also uses the fact that if $ab = n$ for $a, b, n \\in \\mathbb{Z}$ where $a \\le b$, then $a \\le \\sqrt{n}$.\n",
    "\n",
    "So we only need to check divisibility by $2$, $3$, and numbers of the form $6k \\pm 1$ which are less than or equal to $\\sqrt{n}$, since if $n$ is composite, there is guaranteed to be a number in that list which divides $n$."
   ]
  },
  {
   "cell_type": "code",
   "execution_count": 14,
   "id": "ff96f574",
   "metadata": {},
   "outputs": [
    {
     "name": "stdout",
     "output_type": "stream",
     "text": [
      "[2, 3, 5, 7, 11, 13, 17, 19, 23, 29, 31, 37, 41, 43, 47, 53, 59, 61, 67, 71, 73, 79, 83, 89, 97]\n"
     ]
    }
   ],
   "source": [
    "print([x for x in range(1, 100) if is_prime(x)])"
   ]
  },
  {
   "cell_type": "markdown",
   "id": "d3dabc59",
   "metadata": {},
   "source": [
    "## First class functions\n",
    "\n",
    "**Problem statement:**\n",
    "\n",
    "> Explain the output below"
   ]
  },
  {
   "cell_type": "code",
   "execution_count": 21,
   "id": "3590a6a3",
   "metadata": {},
   "outputs": [
    {
     "name": "stdout",
     "output_type": "stream",
     "text": [
      "Hello happy flappy world\n"
     ]
    }
   ],
   "source": [
    "def f1(x):\n",
    "    return \"happy \" + x\n",
    "def f2(f):\n",
    "    def wrapper(*args, **kwargs):\n",
    "        return \"Hello \" + f(*args, **kwargs) + \" world\"\n",
    "    return wrapper\n",
    "f3 = f2(f1)\n",
    "print(f3(\"flappy\"))"
   ]
  },
  {
   "cell_type": "markdown",
   "id": "62a4823c",
   "metadata": {},
   "source": [
    "Functions in Python are first-class citizens, meaning we can pass functions as arguments to other functions.\n",
    "\n",
    "`f2` takes a function `f` and returns another function that calls `f` and adds `\"Hello \"` and `\" world\"` around its output.\n",
    "\n",
    "Applying this to `f1`, the resulting function is essentially a modified version of `f1`. This is stored in `f3`. Calling this modified function results in a net behaviour of surrounding the input with `\"Hello happy \"` and `\" world\"`."
   ]
  },
  {
   "cell_type": "markdown",
   "id": "17e787cb",
   "metadata": {},
   "source": [
    "## Decorators\n",
    "\n",
    "**Problem statement:**\n",
    "\n",
    "> Explain the output below"
   ]
  },
  {
   "cell_type": "code",
   "execution_count": 22,
   "id": "c179bbe0",
   "metadata": {},
   "outputs": [
    {
     "name": "stdout",
     "output_type": "stream",
     "text": [
      "Hello nappy flappy world\n"
     ]
    }
   ],
   "source": [
    "@f2\n",
    "def f4(x):\n",
    "    return \"nappy \" + x\n",
    "\n",
    "print(f4(\"flappy\"))"
   ]
  },
  {
   "cell_type": "markdown",
   "id": "e6c57f92",
   "metadata": {},
   "source": [
    "[Function decorators](https://peps.python.org/pep-0318/) in Python are a syntax construct that is functionally identical to the code in the previous section. It applies the function `f2` to `f4` to modify it, and the modified function is called each time instead of `f4`.\n",
    "\n",
    "Each time `f4(...)` is called, it is like calling `f2(f4)(...)` (where `f4` in the second case here is the original function in the definition)."
   ]
  },
  {
   "cell_type": "markdown",
   "id": "48b0a90e",
   "metadata": {},
   "source": [
    "____"
   ]
  },
  {
   "cell_type": "markdown",
   "id": "2128a09d",
   "metadata": {},
   "source": [
    "# File IO\n",
    "\n",
    "**Problem statement:**\n",
    "\n",
    "> Write a function to generate prime numbers from 1 to N (input)\n",
    "> and write them to a file (second argument).  You can reuse the prime\n",
    "> detection function written earlier."
   ]
  },
  {
   "cell_type": "code",
   "execution_count": 15,
   "id": "004e7c19",
   "metadata": {},
   "outputs": [],
   "source": [
    "def write_primes(N, filename):\n",
    "    file = open(filename, 'w')\n",
    "    file.write( # write to the file\n",
    "        \", \".join( # join the array by comma-space\n",
    "            [str(x) for x in range(1, 100) if is_prime(x)] # array of prime numbers represented as strings\n",
    "        )\n",
    "    )"
   ]
  },
  {
   "cell_type": "markdown",
   "id": "6a49ca8f",
   "metadata": {},
   "source": [
    "The above code opens a file in write mode and writes the array to it. The array is formatted so that the numbers are separated by a comma-space.\n",
    "\n",
    "We can invoke the above function like this:"
   ]
  },
  {
   "cell_type": "code",
   "execution_count": 24,
   "id": "68876434",
   "metadata": {},
   "outputs": [],
   "source": [
    "write_primes(100, 'primes.txt')"
   ]
  },
  {
   "cell_type": "markdown",
   "id": "4edc6bc3",
   "metadata": {},
   "source": [
    "The above code block writes 100 primes to a text file called `primes.txt`."
   ]
  },
  {
   "cell_type": "markdown",
   "id": "5b64d0f1",
   "metadata": {},
   "source": [
    "____"
   ]
  },
  {
   "cell_type": "markdown",
   "id": "46cfd161",
   "metadata": {},
   "source": [
    "# Exceptions\n",
    "\n",
    "**Problem statement:**\n",
    "\n",
    "> Write a function that takes in a number as input, and prints out \n",
    "  whether it is a prime or not.  If the input is not an integer,\n",
    "  print an appropriate error message.  Use exceptions to detect problems."
   ]
  },
  {
   "cell_type": "code",
   "execution_count": 16,
   "id": "ce91effa",
   "metadata": {},
   "outputs": [
    {
     "name": "stdout",
     "output_type": "stream",
     "text": [
      "Enter a number: asdf\n",
      "asdf is not an integer.\n"
     ]
    }
   ],
   "source": [
    "def check_prime(x):\n",
    "    try:\n",
    "        x = int(x)\n",
    "        if is_prime(x):\n",
    "            print(f\"{x} is prime\")\n",
    "        else:\n",
    "            print(f\"{x} is not prime\")\n",
    "    except ValueError:\n",
    "        print(f\"{x} is not an integer.\")\n",
    "x = input('Enter a number: ')\n",
    "check_prime(x)"
   ]
  },
  {
   "cell_type": "markdown",
   "id": "4750eb54",
   "metadata": {},
   "source": [
    "We use a `try` statement to catch any exceptions that are thrown in the execution of a function. the `int(...)` function throws a `ValueError` when the argument passed to it is not an integer. So, on passing any input that raises a `ValueError`, the error handler under `except ValueError:` is executed."
   ]
  }
 ],
 "metadata": {
  "authors": [
   {
    "name": "Niranjan A. Kartha <ee21b095@smail.iitm.ac.in>"
   }
  ],
  "kernelspec": {
   "display_name": "Python 3 (ipykernel)",
   "language": "python",
   "name": "python3"
  },
  "language_info": {
   "codemirror_mode": {
    "name": "ipython",
    "version": 3
   },
   "file_extension": ".py",
   "mimetype": "text/x-python",
   "name": "python",
   "nbconvert_exporter": "python",
   "pygments_lexer": "ipython3",
   "version": "3.10.9"
  },
  "name": "Week1Prob.ipynb",
  "title": "EE2703 - Week 1",
  "toc-autonumbering": true,
  "vscode": {
   "interpreter": {
    "hash": "b0fa6594d8f4cbf19f97940f81e996739fb7646882a419484c72d19e05852a7e"
   }
  }
 },
 "nbformat": 4,
 "nbformat_minor": 5
}
